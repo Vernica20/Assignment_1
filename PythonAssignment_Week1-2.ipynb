{
  "cells": [
    {
      "cell_type": "markdown",
      "metadata": {
        "id": "6tgxENnLvLH7"
      },
      "source": [
        "# Assignment - Python Basics Practice\n",
        "\n",
        "\n"
      ]
    },
    {
      "cell_type": "markdown",
      "metadata": {
        "id": "1VqMdyiivLH-"
      },
      "source": [
        "## Variables and Data Types\n",
        "\n",
        "**Q: Assign your name to the variable `name`.**"
      ]
    },
    {
      "cell_type": "code",
      "execution_count": null,
      "metadata": {
        "id": "yVIYuDDMvLH-",
        "trusted": true
      },
      "outputs": [],
      "source": [
        "name = \"Vernica\""
      ]
    },
    {
      "cell_type": "markdown",
      "metadata": {
        "id": "QeK-QA7GvLH-"
      },
      "source": [
        "**Q: Assign your age (real or fake) to the variable `age`.**"
      ]
    },
    {
      "cell_type": "code",
      "execution_count": 3,
      "metadata": {
        "id": "axuBC-y6vLH_",
        "trusted": true
      },
      "outputs": [],
      "source": [
        "age = 38\n"
      ]
    },
    {
      "cell_type": "markdown",
      "metadata": {
        "id": "okMEWXHwvLH_"
      },
      "source": [
        "**Q: Assign a boolean value to the variable `has_android_phone`.**"
      ]
    },
    {
      "cell_type": "code",
      "execution_count": 2,
      "metadata": {
        "id": "Y6HA_IVGvLH_",
        "trusted": true
      },
      "outputs": [],
      "source": [
        "has_android_phone = \"False\""
      ]
    },
    {
      "cell_type": "markdown",
      "metadata": {
        "id": "QfC_6aXfvLIA"
      },
      "source": [
        "**Q: Create a dictionary `person` with keys `\"Name\"`, `\"Age\"`, `\"HasAndroidPhone\"` and values using the variables defined above.**"
      ]
    },
    {
      "cell_type": "code",
      "execution_count": 6,
      "metadata": {
        "colab": {
          "base_uri": "https://localhost:8080/"
        },
        "id": "VdNLm3L5vLIA",
        "outputId": "4c93877d-4071-4623-8877-709ffea0456a",
        "trusted": true
      },
      "outputs": [
        {
          "name": "stdout",
          "output_type": "stream",
          "text": [
            "{'Name': 'Vernica Verma', 'age': 38, 'has_android_phone': 'False'}\n"
          ]
        }
      ],
      "source": [
        "person = {\n",
        "    \"Name\":\"Vernica Verma\",\n",
        "    \"age\": 38,\n",
        "    \"has_android_phone\": \"False\"\n",
        "    }\n",
        "print(person)"
      ]
    },
    {
      "cell_type": "markdown",
      "metadata": {
        "id": "ytlWYVM7vLIA"
      },
      "source": [
        "Let's use the `person` dictionary to print a nice message."
      ]
    },
    {
      "cell_type": "code",
      "execution_count": 10,
      "metadata": {
        "colab": {
          "base_uri": "https://localhost:8080/"
        },
        "id": "r5sq7VvevLIA",
        "outputId": "af69d428-68b1-4544-8532-5f2908c66cca",
        "trusted": true
      },
      "outputs": [
        {
          "name": "stdout",
          "output_type": "stream",
          "text": [
            "Hello, my name is Vernica Verma. I am 38 years old.\n"
          ]
        }
      ],
      "source": [
        "message = (f\"Hello, my name is {person['Name']}. I am {person['age']} years old.\")\n",
        "print(message)"
      ]
    },
    {
      "cell_type": "markdown",
      "metadata": {
        "id": "HyQ9W2bGvLIB"
      },
      "source": [
        "Use a `for` loop to display the `type` of each value stored against each key in `person`.**\n",
        "\n",
        "Here's the expected output for the key `\"Name\"`:\n",
        "\n",
        "```\n",
        "The key \"Name\" has the value \"Derek\" of the type \"<class 'str'>\"\n",
        "```"
      ]
    },
    {
      "cell_type": "markdown",
      "metadata": {
        "id": "L5VT5-3yvLIB"
      },
      "source": [
        "## Working with Lists\n",
        "\n",
        "**Q: Create a list containing the following 3 elements:**\n",
        "\n",
        "* your favorite color\n",
        "* the number of pets you have\n",
        "* a boolean value describing whether you have previous programming experience\n"
      ]
    },
    {
      "cell_type": "code",
      "execution_count": 12,
      "metadata": {
        "colab": {
          "base_uri": "https://localhost:8080/"
        },
        "id": "KKXeilefvLIB",
        "outputId": "8cab3c29-8ba2-4877-b454-3be68fe2bd83",
        "trusted": true
      },
      "outputs": [
        {
          "name": "stdout",
          "output_type": "stream",
          "text": [
            "['blue', 0, 'True']\n"
          ]
        }
      ],
      "source": [
        "my_list = [\"blue\", 0,\"True\"]\n",
        "print(my_list)"
      ]
    },
    {
      "cell_type": "markdown",
      "metadata": {
        "id": "qPMwq-6RvLIB"
      },
      "source": [
        "Let's see what the list looks like:"
      ]
    },
    {
      "cell_type": "code",
      "execution_count": 13,
      "metadata": {
        "colab": {
          "base_uri": "https://localhost:8080/"
        },
        "id": "o8NZIpdVvLIB",
        "outputId": "8d42d59b-a392-44be-f0cd-3b9a17b957f2",
        "trusted": true
      },
      "outputs": [
        {
          "name": "stdout",
          "output_type": "stream",
          "text": [
            "['blue', 0, 'True']\n"
          ]
        }
      ],
      "source": [
        "print(my_list)"
      ]
    },
    {
      "cell_type": "markdown",
      "metadata": {
        "id": "5yhV9OtPvLIB"
      },
      "source": [
        "**Q: Complete the following `print` and `if` statements by accessing the appropriate elements from `my_list`.**\n",
        "\n",
        "*Hint*: Use the list indexing notation `[]`."
      ]
    },
    {
      "cell_type": "code",
      "execution_count": 16,
      "metadata": {
        "colab": {
          "base_uri": "https://localhost:8080/"
        },
        "id": "xkkR9UObvLIB",
        "outputId": "6d4df617-1ab6-4854-a756-c2c05c247ee4",
        "trusted": true
      },
      "outputs": [
        {
          "name": "stdout",
          "output_type": "stream",
          "text": [
            "My favorite color is blue\n"
          ]
        }
      ],
      "source": [
        "print(f\"My favorite color is {my_list[0]}\")"
      ]
    },
    {
      "cell_type": "code",
      "execution_count": 18,
      "metadata": {
        "colab": {
          "base_uri": "https://localhost:8080/"
        },
        "id": "wS04XOMqvLIB",
        "outputId": "1da70ea0-13ce-4dff-ae25-2ea167324b03",
        "trusted": true
      },
      "outputs": [
        {
          "name": "stdout",
          "output_type": "stream",
          "text": [
            "I have 0 pet(s)\n"
          ]
        }
      ],
      "source": [
        "print(f\"I have {my_list[1]} pet(s)\")"
      ]
    },
    {
      "cell_type": "code",
      "execution_count": 19,
      "metadata": {
        "colab": {
          "base_uri": "https://localhost:8080/"
        },
        "id": "oj9kdoAUvLIB",
        "outputId": "b325c529-312c-45e4-f64d-cba535e8e810",
        "trusted": true
      },
      "outputs": [
        {
          "name": "stdout",
          "output_type": "stream",
          "text": [
            "I have previous programming experience\n"
          ]
        }
      ],
      "source": [
        "if my_list[2]:\n",
        "    print(\"I have previous programming experience\")\n",
        "else:\n",
        "    print(\"I do not have previous programming experience\")"
      ]
    },
    {
      "cell_type": "markdown",
      "metadata": {
        "id": "IBhCrzSmvLIC"
      },
      "source": [
        "**Q: Add your favorite single digit number to the end of the list using the appropriate list method.**"
      ]
    },
    {
      "cell_type": "code",
      "execution_count": 22,
      "metadata": {
        "colab": {
          "base_uri": "https://localhost:8080/"
        },
        "id": "mknB7HzavLIC",
        "outputId": "fe8fb814-b5e4-466a-9479-0092e9a3af8d",
        "trusted": true
      },
      "outputs": [
        {
          "data": {
            "text/plain": [
              "['blue', 0, 'True', 1, 1, 10]"
            ]
          },
          "execution_count": 22,
          "metadata": {},
          "output_type": "execute_result"
        }
      ],
      "source": [
        "my_list.append(10)\n",
        "my_list"
      ]
    },
    {
      "cell_type": "markdown",
      "metadata": {
        "id": "8i7A_tYAvLIC"
      },
      "source": [
        "Let's see if the number shows up in the list."
      ]
    },
    {
      "cell_type": "code",
      "execution_count": 26,
      "metadata": {
        "colab": {
          "base_uri": "https://localhost:8080/"
        },
        "id": "IOWnzL2vvLIC",
        "outputId": "a9a16d64-c898-4417-be28-0767a872f258",
        "trusted": true
      },
      "outputs": [
        {
          "data": {
            "text/plain": [
              "['blue', 1, 10]"
            ]
          },
          "execution_count": 26,
          "metadata": {},
          "output_type": "execute_result"
        }
      ],
      "source": [
        "my_list.pop(-2)\n",
        "my_list"
      ]
    },
    {
      "cell_type": "markdown",
      "metadata": {
        "id": "SWHbz8oNvLIC"
      },
      "source": [
        "**Q: Remove the first element of the list, using the appropriate list method.**\n",
        "\n",
        "*Hint*: Check out methods of list here: https://www.w3schools.com/python/python_ref_list.asp"
      ]
    },
    {
      "cell_type": "code",
      "execution_count": 33,
      "metadata": {
        "colab": {
          "base_uri": "https://localhost:8080/"
        },
        "id": "ym4Y8jKgvLIC",
        "outputId": "1c6eec81-c768-4019-ea6f-818756e86bf4",
        "trusted": true
      },
      "outputs": [
        {
          "data": {
            "text/plain": [
              "[0, 'True']"
            ]
          },
          "execution_count": 33,
          "metadata": {},
          "output_type": "execute_result"
        }
      ],
      "source": [
        "my_list.pop(0)\n",
        "my_list"
      ]
    },
    {
      "cell_type": "code",
      "execution_count": null,
      "metadata": {
        "id": "jySrd216vLIC",
        "trusted": true
      },
      "outputs": [],
      "source": []
    },
    {
      "cell_type": "markdown",
      "metadata": {
        "id": "PoUaBIy6vLIC"
      },
      "source": [
        "**Q: Complete the `print` statement below to display the number of elements in `my_list`.**"
      ]
    },
    {
      "cell_type": "code",
      "execution_count": 34,
      "metadata": {
        "colab": {
          "base_uri": "https://localhost:8080/"
        },
        "id": "dNKqXe-OvLIC",
        "outputId": "0fcb3582-6b7f-4d3f-d6bb-ec2e557458fd",
        "trusted": true
      },
      "outputs": [
        {
          "name": "stdout",
          "output_type": "stream",
          "text": [
            "The number of elements in my_list is: 2\n"
          ]
        }
      ],
      "source": [
        "print(\"The number of elements in my_list is:\", len(my_list))"
      ]
    },
    {
      "cell_type": "markdown",
      "metadata": {
        "id": "zxabeFFzvLIH"
      },
      "source": [
        "## Conditions and loops\n",
        "\n",
        "**Q: Calculate and display the sum of all the numbers divisible by 7 between 18 and 534 i.e. `21+28+35+...+525+532`**.\n",
        "\n",
        "*Hint*: One way to do this is to loop over a `range` using `for` and use an `if` statement inside it."
      ]
    },
    {
      "cell_type": "code",
      "execution_count": 35,
      "metadata": {
        "colab": {
          "base_uri": "https://localhost:8080/"
        },
        "id": "xBYbCDgqvLIH",
        "outputId": "17383892-ea28-480d-de09-4f5cf5c113e1",
        "trusted": true
      },
      "outputs": [
        {
          "name": "stdout",
          "output_type": "stream",
          "text": [
            "The sum of all numbers divisible by 7 between 18 and 534 is: 20461\n"
          ]
        }
      ],
      "source": [
        "total_sum = 0\n",
        "\n",
        "for num in range(18, 535):  # Loop from 18 to 534\n",
        "    if num % 7 == 0:  # Check if the number is divisible by 7\n",
        "        total_sum += num  # Add the number to the total sum\n",
        "\n",
        "print(\"The sum of all numbers divisible by 7 between 18 and 534 is:\", total_sum)"
      ]
    },
    {
      "cell_type": "code",
      "execution_count": null,
      "metadata": {
        "id": "ia99bHJhvLIH",
        "trusted": true
      },
      "outputs": [],
      "source": [
        "print('The sum of all the numbers divisible by 7 between 18 and 534 is', sum_of_numbers)"
      ]
    },
    {
      "cell_type": "markdown",
      "metadata": {
        "id": "4ViBWsq_CJR4"
      },
      "source": [
        "## Lists"
      ]
    },
    {
      "cell_type": "markdown",
      "metadata": {
        "id": "rGHhWCZKCLld"
      },
      "source": [
        "Q1: Write a Python program that takes a list of integers as input and performs the following operations:\n",
        "\n",
        "Remove all duplicates from the list.\n",
        "\n",
        "Sort the list in descending order.\n",
        "\n",
        "Print the second largest number from the list."
      ]
    },
    {
      "cell_type": "code",
      "execution_count": null,
      "metadata": {
        "id": "SZ82tPFVvLIL",
        "trusted": true
      },
      "outputs": [],
      "source": [
        "def process_numbers(nums):\n",
        "    # Remove duplicates by converting the list to a set\n",
        "    unique_nums = list(set(nums))\n",
        "\n",
        "    # Sort the list in descending order\n",
        "    unique_nums.sort(reverse=True)\n",
        "\n",
        "    # Check if there's a second largest number\n",
        "    if len(unique_nums) < 2:\n",
        "        print(\"No second largest number found.\")\n",
        "    else:\n",
        "        print(\"Second largest number:\", unique_nums[1])\n",
        "\n",
        "# Example usage\n",
        "nums = list(map(int, input(\"Enter space-separated integers: \").split()))\n",
        "process_numbers(nums)\n"
      ]
    },
    {
      "cell_type": "markdown",
      "metadata": {
        "id": "XQEcpkFdCavt"
      },
      "source": [
        "## Dictionary"
      ]
    },
    {
      "cell_type": "markdown",
      "metadata": {
        "id": "sHTYSJczCTGB"
      },
      "source": [
        "Q2: Create a dictionary from two lists, one containing student names and the other containing their scores. Then, write a program to:\n",
        "\n",
        "Print the dictionary.\n",
        "\n",
        "Find the student with the highest score.\n",
        "\n",
        "Add a new student with a given score to the dictionary."
      ]
    },
    {
      "cell_type": "code",
      "execution_count": null,
      "metadata": {
        "id": "1j5QxWp-CaPV"
      },
      "outputs": [],
      "source": [
        "# Create lists\n",
        "students = [\"Alice\", \"Bob\", \"Charlie\", \"David\"]\n",
        "scores = [85, 92, 78, 90]\n",
        "\n",
        "# Create dictionary\n",
        "student_scores = dict(zip(students, scores))\n",
        "\n",
        "# Print the dictionary\n",
        "print(\"Student Scores Dictionary:\", student_scores)\n",
        "\n",
        "# Find the student with the highest score\n",
        "highest_scorer = max(student_scores, key=student_scores.get)\n",
        "print(\"Student with the highest score:\", highest_scorer, \"-\", student_scores[highest_scorer])\n",
        "\n",
        "# Add a new student\n",
        "new_student = \"Eve\"\n",
        "new_score = 88\n",
        "student_scores[new_student] = new_score\n",
        "print(\"Updated Student Scores Dictionary:\", student_scores)\n"
      ]
    },
    {
      "cell_type": "markdown",
      "metadata": {
        "id": "2hyaanCNCiIi"
      },
      "source": [
        "#Tuple"
      ]
    },
    {
      "cell_type": "markdown",
      "metadata": {
        "id": "JXCvRY60CdIC"
      },
      "source": [
        "3: Write a Python program to create a tuple from a list of integers. Then:\n",
        "\n",
        "Find the minimum, maximum, and sum of the elements in the tuple.\n",
        "\n",
        "Convert the tuple into a string and print it."
      ]
    },
    {
      "cell_type": "code",
      "execution_count": null,
      "metadata": {
        "id": "DuJ7X4WECjob"
      },
      "outputs": [],
      "source": [
        "#Create a tuple from a list of integers\n",
        "num_list = [10, 20, 30, 40, 50]\n",
        "num_tuple = tuple(num_list)\n",
        "\n",
        "# Find min, max, and sum of elements\n",
        "min_value = min(num_tuple)\n",
        "max_value = max(num_tuple)\n",
        "sum_value = sum(num_tuple)\n",
        "print(\"Minimum:\", min_value, \"Maximum:\", max_value, \"Sum:\", sum_value)\n",
        "\n",
        "# Convert tuple to string\n",
        "tuple_string = \" \".join(map(str, num_tuple))\n",
        "print(\"Tuple as String:\", tuple_string)"
      ]
    },
    {
      "cell_type": "markdown",
      "metadata": {
        "id": "1kYvyW6XCzeq"
      },
      "source": [
        "##Numpy"
      ]
    },
    {
      "cell_type": "markdown",
      "metadata": {
        "id": "OPqNJ7fyCkAA"
      },
      "source": [
        "\n",
        "Q4: Using the NumPy library:\n",
        "\n",
        "Create a 3x3 matrix filled with random integers between 1 and 20.\n",
        "\n",
        "Replace all values greater than 10 with 0.\n",
        "\n",
        "Find the mean of the modified matrix."
      ]
    },
    {
      "cell_type": "code",
      "execution_count": null,
      "metadata": {
        "id": "nYOz4En9CxGp"
      },
      "outputs": [],
      "source": [
        "import numpy as np\n",
        "matrix = np.random.randint(1, 21, size=(3, 3))\n",
        "print(\"Original Matrix:\\n\", matrix)\n",
        "\n",
        "# Replace values greater than 10 with 0\n",
        "matrix[matrix > 10] = 0\n",
        "print(\"Modified Matrix:\\n\", matrix)\n",
        "\n",
        "# Find the mean of the modified matrix\n",
        "mean_value = np.mean(matrix)\n",
        "print(\"Mean of Modified Matrix:\", mean_value)"
      ]
    },
    {
      "cell_type": "markdown",
      "metadata": {
        "id": "8Z0UcbZXC1U0"
      },
      "source": [
        "## Pandas"
      ]
    },
    {
      "cell_type": "markdown",
      "metadata": {
        "id": "abiz20V4C1RS"
      },
      "source": [
        "Q5: Using the Pandas library:\n",
        "\n",
        "Create a DataFrame from a dictionary where the keys are column names, and the values are lists representing data for each column.\n",
        "\n",
        "Add a new column to the DataFrame by calculating the difference between two existing columns.\n",
        "\n",
        "Drop any rows where the value in a specific column is less than 50."
      ]
    },
    {
      "cell_type": "code",
      "execution_count": null,
      "metadata": {
        "id": "ah5WJvzDC7iK"
      },
      "outputs": [],
      "source": [
        "import pandas as pd\n",
        "\n",
        "# Create DataFrame from a dictionary\n",
        "data = {\n",
        "    'A': [10, 20, 30, 40, 50, 60],\n",
        "    'B': [15, 25, 35, 45, 55, 65]\n",
        "}\n",
        "df = pd.DataFrame(data)\n",
        "\n",
        "# Add a new column 'C' as the difference between 'B' and 'A'\n",
        "df['C'] = df['B'] - df['A']\n",
        "\n",
        "# Drop rows where the value in column 'C' is less than 50\n",
        "df = df[df['C'] >= 50]\n",
        "\n",
        "# Print the final DataFrame\n",
        "print(df)"
      ]
    },
    {
      "cell_type": "markdown",
      "metadata": {
        "id": "VF5MTuC7C_94"
      },
      "source": [
        "##Exception Handling"
      ]
    },
    {
      "cell_type": "markdown",
      "metadata": {
        "id": "vLTDuZGuC_3d"
      },
      "source": [
        "\n",
        "Q6: Write a Python program to perform division of two user-input numbers. Implement exception handling to:\n",
        "\n",
        "Catch the division by zero error.\n",
        "\n",
        "Catch invalid input type errors (e.g., if the user enters a string instead of a number).\n",
        "\n",
        "Ensure the program runs successfully even if an error occurs. (Hint: Add finally)"
      ]
    },
    {
      "cell_type": "code",
      "execution_count": null,
      "metadata": {
        "id": "ktyOho_2DHyP"
      },
      "outputs": [],
      "source": [
        "def divide_numbers():\n",
        "    try:\n",
        "        num1 = float(input(\"Enter the first number: \"))\n",
        "        num2 = float(input(\"Enter the second number: \"))\n",
        "        result = num1 / num2\n",
        "    except ZeroDivisionError:\n",
        "        print(\"Error: Division by zero is not allowed.\")\n",
        "    except ValueError:\n",
        "        print(\"Error: Invalid input. Please enter numeric values.\")\n",
        "    else:\n",
        "        print(f\"Result: {result}\")\n",
        "    finally:\n",
        "        print(\"Execution completed.\")\n",
        "\n",
        "# Run the function\n",
        "divide_numbers()\n"
      ]
    },
    {
      "cell_type": "markdown",
      "metadata": {
        "id": "rNyZu1w9DeTz"
      },
      "source": [
        "## Matplotlib"
      ]
    },
    {
      "cell_type": "markdown",
      "metadata": {
        "id": "Udg5GavODMuT"
      },
      "source": [
        "\n",
        "Q7: Create a line chart using the Matplotlib library to display the population growth over years. The program should:\n",
        "\n",
        "Create dummy data: containing years and population values.\n",
        "\n",
        "Plot the line chart with proper labels for the x-axis, y-axis, and a title."
      ]
    },
    {
      "cell_type": "code",
      "execution_count": null,
      "metadata": {
        "id": "k6nTd1wRDdUg"
      },
      "outputs": [],
      "source": [
        "import matplotlib.pyplot as plt\n",
        "\n",
        "# Dummy data\n",
        "years = [2000, 2005, 2010, 2015, 2020, 2025]\n",
        "population = [2.5, 3.0, 3.8, 4.5, 5.2, 6.0]\n",
        "\n",
        "# Create line chart\n",
        "plt.plot(years, population, marker='o', linestyle='-', color='b')\n",
        "\n",
        "# Labels and title\n",
        "plt.xlabel(\"Years\")\n",
        "plt.ylabel(\"Population (in billions)\")\n",
        "plt.title(\"Population Growth Over Years\")\n",
        "\n",
        "# Show the plot\n",
        "plt.show()"
      ]
    },
    {
      "cell_type": "markdown",
      "metadata": {
        "id": "_W9lJpzZDxNF"
      },
      "source": [
        "## Seaborn"
      ]
    },
    {
      "cell_type": "markdown",
      "metadata": {
        "id": "hM12mAgqDyId"
      },
      "source": [
        "\n",
        "Q8: Using the Seaborn library, plot a distribution of the sepal_length column from the Iris dataset. The program should:\n",
        "\n",
        "Load the 'iris' dataset from Seaborn's sample datasets.\n",
        "Plot a KDE (Kernel Density Estimation) plot for the sepal_length column.\n",
        "Customize the plot with a title and set the color of the plot to blue.\n"
      ]
    },
    {
      "cell_type": "code",
      "execution_count": null,
      "metadata": {
        "id": "3CYknAGGDzpK"
      },
      "outputs": [],
      "source": [
        "import seaborn as sns\n",
        "import matplotlib.pyplot as plt\n",
        "\n",
        "# Load the Iris dataset\n",
        "df = sns.load_dataset(\"iris\")\n",
        "\n",
        "# Plot KDE for sepal_length\n",
        "sns.kdeplot(df[\"sepal_length\"], color=\"blue\", shade=True)\n",
        "\n",
        "# Customize the plot\n",
        "plt.title(\"Distribution of Sepal Length in Iris Dataset\")\n",
        "plt.xlabel(\"Sepal Length\")\n",
        "plt.ylabel(\"Density\")\n",
        "\n",
        "# Show the plot\n",
        "plt.show()\n"
      ]
    },
    {
      "cell_type": "markdown",
      "metadata": {
        "id": "fFTydMAXD-cD"
      },
      "source": [
        "## Pandas DataFrame"
      ]
    },
    {
      "cell_type": "markdown",
      "metadata": {
        "id": "nZSrcAuuD-Yt"
      },
      "source": [
        "\n",
        "Q9: Write a Python program to perform the following operations on the Iris dataset:\n",
        "\n",
        "Load the dataset into a Pandas DataFrame.\n",
        "\n",
        "Display the first 10 rows of the DataFrame.\n",
        "\n",
        "Group the data by the species column and calculate the mean of each numeric column for each species.\n",
        "\n",
        "Add a new column sepal_area that is the product of sepal_length and sepal_width.\n",
        "\n",
        "Filter the DataFrame to show only rows where sepal_area is greater than 20."
      ]
    },
    {
      "cell_type": "code",
      "execution_count": null,
      "metadata": {
        "id": "vWpR1ZA1EE5v"
      },
      "outputs": [],
      "source": [
        "import pandas as pd\n",
        "import seaborn as sns\n",
        "\n",
        "# Load the Iris dataset\n",
        "df = sns.load_dataset(\"iris\")\n",
        "\n",
        "# Display the first 10 rows\n",
        "print(\"First 10 rows:\")\n",
        "print(df.head(10))\n",
        "\n",
        "# Group by species and calculate the mean\n",
        "species_mean = df.groupby(\"species\").mean()\n",
        "print(\"\\nMean values for each species:\")\n",
        "print(species_mean)\n",
        "\n",
        "# Add a new column 'sepal_area'\n",
        "df[\"sepal_area\"] = df[\"sepal_length\"] * df[\"sepal_width\"]\n",
        "\n",
        "# Filter rows where sepal_area is greater than 20\n",
        "filtered_df = df[df[\"sepal_area\"] > 20]\n",
        "print(\"\\nFiltered DataFrame (sepal_area > 20):\")\n",
        "print(filtered_df)\n"
      ]
    },
    {
      "cell_type": "markdown",
      "metadata": {
        "id": "boirWrgRElAS"
      },
      "source": [
        "## Functions"
      ]
    },
    {
      "cell_type": "markdown",
      "metadata": {
        "id": "Ve2MS7VKEk9C"
      },
      "source": [
        "Q10: Write a Python program that defines a function to calculate the Body Mass Index (BMI) based on a person's weight and height. The program should:\n",
        "\n",
        "Define a function calculate_bmi(weight, height) that takes the weight (in kilograms) and height (in meters) as arguments and returns the BMI.\n",
        "\n",
        "BMI = weight/(height**2)\n",
        "\n",
        "Use the function to calculate the BMI for a given weight and height input by the user.\n",
        "\n",
        "Define another function bmi_category(bmi) that takes the BMI as input and returns the BMI category:\n",
        "\n",
        "\"Underweight\" if BMI < 18.5\n",
        "\n",
        "\"Normal weight\" if 18.5 <= BMI < 24.9\n",
        "\n",
        "\"Overweight\" if 25 <= BMI < 29.9\n",
        "\n",
        "\"Obese\" if BMI >= 30\n",
        "\n",
        "(Hint; use if elif else multiple conditions)\n",
        "\n",
        "Print the calculated BMI and the corresponding category."
      ]
    },
    {
      "cell_type": "markdown",
      "metadata": {
        "id": "H9q9BWZ6Li8D"
      },
      "source": [
        "## OOPS"
      ]
    },
    {
      "cell_type": "markdown",
      "metadata": {
        "id": "lGs0H00rL3RD"
      },
      "source": [
        "Problem #1: Complete the code below to calcualte volume and surface area of a cylinder"
      ]
    },
    {
      "cell_type": "code",
      "execution_count": null,
      "metadata": {
        "id": "vk_rMP-8E31G"
      },
      "outputs": [],
      "source": [
        "cimport math\n",
        "\n",
        "class Cylinder:\n",
        "    def __init__(self, height=1, radius=1):\n",
        "        self.height = height\n",
        "        self.radius = radius\n",
        "\n",
        "    def volume(self):\n",
        "        return math.pi * self.radius**2 * self.height\n",
        "\n",
        "    def surface_area(self):\n",
        "        return 2 * math.pi * self.radius * (self.radius + self.height)\n",
        "\n",
        "# Example usage\n",
        "cyl = Cylinder(3, 5)\n",
        "print(\"Volume:\", cyl.volume())\n",
        "print(\"Surface Area:\", cyl.surface_area())"
      ]
    },
    {
      "cell_type": "code",
      "execution_count": null,
      "metadata": {
        "id": "rUZwaNMmMCF5"
      },
      "outputs": [],
      "source": [
        "# EXAMPLE OUTPUT\n",
        "c = Cylinder(2,3)"
      ]
    },
    {
      "cell_type": "code",
      "execution_count": null,
      "metadata": {
        "id": "wQSeJ9wQMENx"
      },
      "outputs": [],
      "source": [
        "c.volume()"
      ]
    },
    {
      "cell_type": "code",
      "execution_count": null,
      "metadata": {
        "id": "94_3vbW3MGJN"
      },
      "outputs": [],
      "source": [
        "c.surface_area()"
      ]
    },
    {
      "cell_type": "markdown",
      "metadata": {
        "id": "VjUSspmUXvf8"
      },
      "source": [
        "Problem #2:\n",
        "\n",
        "- Create a bank account class that has two attributes:\n",
        "\n",
        "   - owner\n",
        "   - balance\n",
        "   \n",
        "- and two methods:\n",
        "\n",
        "   - deposit\n",
        "   - withdraw\n",
        "\n",
        "Instantiate your class, make several deposits and withdrawals, and test to make sure the account can't be overdrawn."
      ]
    },
    {
      "cell_type": "markdown",
      "metadata": {
        "id": "VKDEFWpOYc5l"
      },
      "source": [
        "## Decorators"
      ]
    },
    {
      "cell_type": "markdown",
      "metadata": {
        "id": "SCtuWz6WZpDr"
      },
      "source": [
        "1. Write a Python program to create a decorator function to measure the execution time of a function.\n",
        "\n"
      ]
    },
    {
      "cell_type": "code",
      "execution_count": null,
      "metadata": {
        "id": "PbDSUEznYFG7"
      },
      "outputs": [],
      "source": [
        "def timing_decorator(func):\n",
        "    def wrapper(*args, **kwargs):\n",
        "        start_time = time.time()  # Record the start time\n",
        "        result = func(*args, **kwargs)  # Execute the function\n",
        "        end_time = time.time()  # Record the end time\n",
        "        execution_time = end_time - start_time\n",
        "        print(f\"Execution time of {func.__name__}: {execution_time:.6f} seconds\")\n",
        "        return result\n",
        "    return wrapper\n",
        "\n",
        "# Example usage\n",
        "@timing_decorator\n",
        "def example_function(n):\n",
        "    total = 0\n",
        "    for i in range(n):\n",
        "        total += i\n",
        "    return total\n",
        "\n",
        "# Call the function\n",
        "test_result = example_function(1000000)\n"
      ]
    }
  ],
  "metadata": {
    "colab": {
      "provenance": []
    },
    "kernelspec": {
      "display_name": "Python 3",
      "language": "python",
      "name": "python3"
    },
    "language_info": {
      "codemirror_mode": {
        "name": "ipython",
        "version": 3
      },
      "file_extension": ".py",
      "mimetype": "text/x-python",
      "name": "python",
      "nbconvert_exporter": "python",
      "pygments_lexer": "ipython3",
      "version": "3.6.4"
    }
  },
  "nbformat": 4,
  "nbformat_minor": 0
}
