{
  "nbformat": 4,
  "nbformat_minor": 0,
  "metadata": {
    "colab": {
      "provenance": []
    },
    "kernelspec": {
      "name": "python3",
      "display_name": "Python 3"
    },
    "language_info": {
      "name": "python"
    }
  },
  "cells": [
    {
      "cell_type": "code",
      "execution_count": 1,
      "metadata": {
        "colab": {
          "base_uri": "https://localhost:8080/"
        },
        "id": "nwuMD6AwtYoH",
        "outputId": "afcc5534-b118-449a-bbef-af9c8363163c"
      },
      "outputs": [
        {
          "output_type": "stream",
          "name": "stdout",
          "text": [
            "\u001b[?25l   \u001b[90m━━━━━━━━━━━━━━━━━━━━━━━━━━━━━━━━━━━━━━━━\u001b[0m \u001b[32m0.0/127.4 kB\u001b[0m \u001b[31m?\u001b[0m eta \u001b[36m-:--:--\u001b[0m\r\u001b[2K   \u001b[91m━━━━━━━━━━━━━━━━━━━━━━━━━━━━━━━━━━━━━━\u001b[0m\u001b[91m╸\u001b[0m\u001b[90m━\u001b[0m \u001b[32m122.9/127.4 kB\u001b[0m \u001b[31m4.6 MB/s\u001b[0m eta \u001b[36m0:00:01\u001b[0m\r\u001b[2K   \u001b[90m━━━━━━━━━━━━━━━━━━━━━━━━━━━━━━━━━━━━━━━━\u001b[0m \u001b[32m127.4/127.4 kB\u001b[0m \u001b[31m3.1 MB/s\u001b[0m eta \u001b[36m0:00:00\u001b[0m\n",
            "\u001b[?25h"
          ]
        }
      ],
      "source": [
        "!pip install -q groq"
      ]
    },
    {
      "cell_type": "code",
      "source": [
        "import os\n",
        "from google.colab import userdata\n",
        "groq_api_key = userdata.get('grow_api')\n",
        "os.environ[\"GROQ_API_KEY\"] = groq_api_key"
      ],
      "metadata": {
        "id": "XcXW_Ve8t2xl"
      },
      "execution_count": 2,
      "outputs": []
    },
    {
      "cell_type": "code",
      "source": [
        "import os\n",
        "from groq import Groq\n",
        "client = Groq(\n",
        "    api_key=os.environ.get(\"GROQ_API_KEY\"),\n",
        ")\n",
        "chat_completion = client.chat.completions.create(\n",
        "    messages=[\n",
        "        {\n",
        "            \"role\": \"user\",\n",
        "            \"content\": \"Explain the importance of large language models\",\n",
        "        }\n",
        "    ],\n",
        "    model=\"llama3-8b-8192\",\n",
        ")\n",
        "print(chat_completion.choices[0].message.content)"
      ],
      "metadata": {
        "colab": {
          "base_uri": "https://localhost:8080/"
        },
        "id": "j4ntLzw2uIG7",
        "outputId": "1d5a01bc-cf3d-4520-b7b0-a3bc48a97f4c"
      },
      "execution_count": 3,
      "outputs": [
        {
          "output_type": "stream",
          "name": "stdout",
          "text": [
            "Large language models (LLMs) have revolutionized the field of natural language processing (NLP) and have far-reaching implications in various industries. The importance of LLMs can be understood from the following aspects:\n",
            "\n",
            "1. **Improved language understanding**: LLMs have enabled machines to understand human language more accurately and contextually. They can process and analyze vast amounts of text data, recognizing patterns, relationships, and nuances that were previously elusive.\n",
            "2. **Enhanced text generation**: LLMs can generate high-quality, natural-sounding text that is difficult to distinguish from human-written text. This has significant applications in content creation, automated writing, and language translation.\n",
            "3. **Question answering and problem-solving**: LLMs can process complex questions and provide accurate answers, making them a valuable tool for search engines, customer service, and expert systems.\n",
            "4. **Conversational AI**: LLMs have enabled the development of conversational AI systems, such as chatbots and virtual assistants, that can engage in natural-sounding conversations with humans.\n",
            "5. **Sentiment analysis and opinion mining**: LLMs can analyze text to extract sentiment, emotions, and opinions, helping businesses understand customer feedback and market trends.\n",
            "6. **Information retrieval and summarization**: LLMs can retrieve relevant information from large datasets and summarize it in a concise and accurate manner, making it easier to analyze and comprehend complex data.\n",
            "7. **Language translation**: LLMs have improved language translation accuracy, enabling seamless communication across languages and cultures.\n",
            "8. **Content analysis**: LLMs can analyze large volumes of text data to identify trends, patterns, and correlations, providing valuable insights for market research, customer targeting, and social media monitoring.\n",
            "9. **Spam detection and fraud prevention**: LLMs can detect and prevent spam and fraudulent activities by analyzing text patterns and sentiment.\n",
            "10. **Medical and healthcare applications**: LLMs can analyze medical texts to identify patterns and relationships, enabling the development of personalized medicine, disease diagnosis, and treatment plans.\n",
            "11. **Education and research**: LLMs can assist in language learning, content creation, and research by generating original text and summarizing complex information.\n",
            "12. **Business intelligence**: LLMs can analyze customer feedback, sentiment, and preferences to improve customer service, product development, and marketing strategies.\n",
            "\n",
            "In conclusion, large language models have the potential to transform various industries and aspects of our lives by enabling better language understanding, generation, and analysis. Their applications are vast and diverse, and they are likely to have a significant impact on the way we communicate, work, and live in the future.\n"
          ]
        }
      ]
    },
    {
      "cell_type": "code",
      "source": [
        "!pip install -q litellm\n"
      ],
      "metadata": {
        "colab": {
          "base_uri": "https://localhost:8080/"
        },
        "id": "2kSVYxUUuvLE",
        "outputId": "a3cb7787-1c3c-457c-c615-78ba2ddd0864"
      },
      "execution_count": 4,
      "outputs": [
        {
          "output_type": "stream",
          "name": "stdout",
          "text": [
            "\u001b[2K     \u001b[90m━━━━━━━━━━━━━━━━━━━━━━━━━━━━━━━━━━━━━━━━\u001b[0m \u001b[32m7.2/7.2 MB\u001b[0m \u001b[31m32.0 MB/s\u001b[0m eta \u001b[36m0:00:00\u001b[0m\n",
            "\u001b[?25h  Installing build dependencies ... \u001b[?25l\u001b[?25hdone\n",
            "  Getting requirements to build wheel ... \u001b[?25l\u001b[?25hdone\n",
            "  Preparing metadata (pyproject.toml) ... \u001b[?25l\u001b[?25hdone\n",
            "\u001b[2K   \u001b[90m━━━━━━━━━━━━━━━━━━━━━━━━━━━━━━━━━━━━━━━━\u001b[0m \u001b[32m1.2/1.2 MB\u001b[0m \u001b[31m41.7 MB/s\u001b[0m eta \u001b[36m0:00:00\u001b[0m\n",
            "\u001b[?25h  Building wheel for litellm (pyproject.toml) ... \u001b[?25l\u001b[?25hdone\n"
          ]
        }
      ]
    },
    {
      "cell_type": "code",
      "source": [
        "from litellm import completion"
      ],
      "metadata": {
        "id": "W8Fvm6_gzN6p"
      },
      "execution_count": 5,
      "outputs": []
    },
    {
      "cell_type": "code",
      "source": [
        "text = f\"\"\"\n",
        "\n",
        "Neutrinos—those elusive, nearly massless particles—remain a mystery in the realm of physics.\n",
        "Dr. Eliza Vargas and Prof. Y. Takahashi, renowned researchers in particle physics,\n",
        "have focused on these \"ghost particles\" that barely interact with matter.\n",
        "According to Vargas’s findings (2020), neutrinos are produced in nuclear\n",
        "reactions (like those inside the sun or from a supernova!).\n",
        "They pass through matter untouched due to their weak interactions with other particles, making detection infamously difficult.\n",
        "\n",
        "Prof. Takahashi’s work highlights the three flavors of neutrinos—electron,\n",
        "muon, and tau—each capable of oscillating, or “switching identities,” while in motion!\n",
        "This strange behavior plays a vital role in understanding particle mass.\n",
        "Some scientists believe neutrinos could unlock the secret to dark matter,\n",
        "that mysterious substance making up ~85% of the universe.\n",
        "Vargas & Takahashi’s studies suggest that deeper insights\n",
        "into neutrinos may one day unveil the secrets of our universe's composition and ^evolution^, bridging unexplored gaps in modern physics.\n",
        "\"\"\"\n",
        "\n",
        "prompt = f\"\"\"Summarize the following article {text} for as following:\n",
        "1.Highschool student\n",
        "2.Lay man\n",
        "3.An expert \"\"\"\n",
        "\n",
        "\n",
        "\n"
      ],
      "metadata": {
        "id": "dVhgfdpYu6xC"
      },
      "execution_count": 13,
      "outputs": []
    },
    {
      "cell_type": "code",
      "source": [],
      "metadata": {
        "id": "F3W0DmE2zM8j"
      },
      "execution_count": 6,
      "outputs": []
    },
    {
      "cell_type": "code",
      "source": [
        "def get_response(prompt):\n",
        "  #define model\n",
        "  model=\"groq/llama3-70b-8192\"\n",
        "  messages = [{\"role\": \"user\", \"content\": prompt}]\n",
        "\n",
        "  #call responses\n",
        "  response = completion(\n",
        "      model=model,\n",
        "      messages=messages\n",
        "  )\n",
        "\n",
        "  return response['choices'][0]['message']['content'] or \"\"\n"
      ],
      "metadata": {
        "id": "8YUoE0M4u8Ji"
      },
      "execution_count": 14,
      "outputs": []
    },
    {
      "cell_type": "code",
      "source": [
        "res = get_response(prompt)\n",
        "print(res)"
      ],
      "metadata": {
        "colab": {
          "base_uri": "https://localhost:8080/"
        },
        "id": "6zK7n7N8vD5r",
        "outputId": "ea0082a5-5ccd-4ff7-fbb0-837e3316ac73"
      },
      "execution_count": 15,
      "outputs": [
        {
          "output_type": "stream",
          "name": "stdout",
          "text": [
            "Here are three summaries of the article, tailored to different levels of expertise:\n",
            "\n",
            "**For a High School Student:**\n",
            "\n",
            "Neutrinos are tiny particles that are really hard to detect because they barely interact with matter. Scientists like Dr. Eliza Vargas and Prof. Y. Takahashi are trying to learn more about these \"ghost particles\". They know that neutrinos are created in super hot places like the sun or during supernovae explosions. Neutrinos come in three different types, and they can change from one type to another while they're moving. Learning more about neutrinos might help us understand some of the biggest mysteries in the universe, like dark matter.\n",
            "\n",
            "**For a Lay Person:**\n",
            "\n",
            "Neutrinos are tiny particles that are incredibly hard to detect. They're like ghosts that pass through matter without leaving a trace. Researchers Dr. Eliza Vargas and Prof. Y. Takahashi are working to uncover the secrets of these elusive particles. They've found that neutrinos are created in extreme environments, like the sun or during massive star explosions. What's really weird about neutrinos is that they can change their identity while they're moving. Scientists think that if we can learn more about neutrinos, we might finally understand some of the biggest mysteries of the universe, including dark matter, which makes up most of the universe.\n",
            "\n",
            "**For an Expert:**\n",
            "\n",
            "The enigmatic nature of neutrinos continues to intrigue researchers in the field of particle physics. Dr. Eliza Vargas and Prof. Y. Takahashi are pushing the boundaries of our understanding of these nearly massless particles. Their work highlights the production of neutrinos in nuclear reactions, such as those occurring in the sun or during supernovae events. The weak interactions of neutrinos with matter render them notoriously difficult to detect. Prof. Takahashi's research sheds light on the three flavors of neutrinos, which exhibit oscillatory behavior, a phenomenon crucial for understanding particle mass. Furthermore, the study of neutrinos may hold the key to unlocking the secrets of dark matter, which comprises approximately 85% of the universe. The ongoing research in this area has the potential to bridge significant gaps in our understanding of the universe's composition and evolution.\n"
          ]
        }
      ]
    }
  ]
}